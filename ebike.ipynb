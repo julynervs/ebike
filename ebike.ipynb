{
 "cells": [
  {
   "cell_type": "markdown",
   "metadata": {},
   "source": [
    "### Potência necessária para desenvolver o torque nas rodas"
   ]
  },
  {
   "cell_type": "code",
   "execution_count": 5,
   "metadata": {},
   "outputs": [
    {
     "data": {
      "image/png": "[encoded data removed]",
      "text/plain": [
       "<Figure size 432x288 with 1 Axes>"
      ]
     },
     "metadata": {
      "needs_background": "light"
     },
     "output_type": "display_data"
    }
   ],
   "source": [
    "import numpy as np\n",
    "import matplotlib.pyplot as plt\n",
    "\n",
    "A = 0.46  #considerando uma área média de uma pessoa em cima de uma bike \n",
    "g = 9.81  #gravidade  \n",
    "ro = 1.225  #densidade do ar\n",
    "Cr = 0.0045  #coeficiente de resistência ao rolamento, pode ter um valor de 0,0022 ate 0,005 \n",
    "phi = 0*np.pi/180  #angulo de inclinação\n",
    "Cd = 1.0  #coeficiente de arrasto\n",
    "m = 72\n",
    "\n",
    "v = np.array(range(6,25,1))\n",
    "\n",
    "#Força total\n",
    "#F_nec = m*g*(np.sin(phi)) + Cr*m*g*(np.cos(phi)) + (1/2)*Cd*ro*A*((v/3.6)**2)\n",
    "Pot_nec = m*g*(np.sin(phi))*v + Cr*m*g*(np.cos(phi))*v + (1/2)*Cd*ro*A*((v/3.6)**3)\n",
    "\n",
    "\n",
    "plt.plot(v,Pot_nec)\n",
    "plt.show()"
   ]
  },
  {
   "cell_type": "markdown",
   "metadata": {},
   "source": [
    "### Conversões"
   ]
  },
  {
   "cell_type": "code",
   "execution_count": 12,
   "metadata": {},
   "outputs": [
    {
     "name": "stdout",
     "output_type": "stream",
     "text": [
      "Relação: 1\n",
      "Potência na roda:  476.47 W\n",
      "Perdas:  4.71 %\n",
      "Velocidade máxima:  361.00 Km/h\n",
      "Torque:  1.75 N.m\n",
      "Energia roda:  3.05 J\n",
      "Força:  4.75 N\n"
     ]
    }
   ],
   "source": [
    "import numpy as np\n",
    "import matplotlib.pyplot as plt\n",
    "\n",
    "# Especificações do Motor (Leonardo)\n",
    "pot_motor = 500  #potência em watts (W)\n",
    "i = 25  #corrente em amperes (A)\n",
    "V = 24  #tensão em volts (V) \n",
    "W_motor = 2600  #velocidade do motor (RPM)\n",
    "tor_motor = 1.75  #torque do motor (N.m)\n",
    "\n",
    "n = float(input(\"Relação: \"))\n",
    "\n",
    "r = 29*0.0254/2  #raio de 29\" em metro\n",
    "d = 2*np.pi*r  #comprimento da roda\n",
    "F = tor_motor/r  #força aplicada na catraca pelo motor\n",
    "\n",
    "E = F*d  #trabalho de uma volta da roda\n",
    "\n",
    "#Velocidade máxima\n",
    "w_motor = W_motor*2*np.pi/60  #rpm pra rad/s\n",
    "tor_roda = tor_motor*n  #torque na roda (N.m)\n",
    "w_roda = w_motor/n  #velocidade angular na roda (rad/s)\n",
    "v_roda = w_roda*r*3.6  #velocidade escalar na roda (Km/h)\n",
    "t = d/v_roda\n",
    "\n",
    "pot_roda = w_roda*tor_roda\n",
    "perdas = (pot_motor - pot_roda)*100/pot_motor\n",
    "\n",
    "E_roda = pot_roda*t\n",
    "\n",
    "print(\"Potência na roda: \",\"%.2f\" % pot_roda,\"W\")\n",
    "print(\"Perdas: \",\"%.2f\" % perdas,\"%\")\n",
    "print(\"Velocidade máxima: \",\"%.2f\" % v_roda,\"Km/h\")\n",
    "print(\"Torque: \",\"%.2f\" % tor_roda,\"N.m\")\n",
    "print(\"Energia roda: \",\"%.2f\" % E_roda,\"J\")\n",
    "print(\"Força: \",\"%.2f\" % F,\"N\")"
   ]
  },
  {
   "cell_type": "code",
   "execution_count": null,
   "metadata": {},
   "outputs": [],
   "source": []
  }
 ],
 "metadata": {
  "kernelspec": {
   "display_name": "Python 3",
   "language": "python",
   "name": "python3"
  },
  "language_info": {
   "codemirror_mode": {
    "name": "ipython",
    "version": 3
   },
   "file_extension": ".py",
   "mimetype": "text/x-python",
   "name": "python",
   "nbconvert_exporter": "python",
   "pygments_lexer": "ipython3",
   "version": "3.7.3"
  }
 },
 "nbformat": 4,
 "nbformat_minor": 2
}
